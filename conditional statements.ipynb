{
 "cells": [
  {
   "cell_type": "code",
   "execution_count": 10,
   "id": "364994f0",
   "metadata": {},
   "outputs": [],
   "source": [
    "NAME={\"harshwardhan\"}"
   ]
  },
  {
   "cell_type": "code",
   "execution_count": 12,
   "id": "70437488",
   "metadata": {
    "scrolled": true
   },
   "outputs": [
    {
     "name": "stdout",
     "output_type": "stream",
     "text": [
      "{'harshwardhan'}\n"
     ]
    }
   ],
   "source": [
    "print(NAME)"
   ]
  },
  {
   "cell_type": "code",
   "execution_count": 2,
   "id": "2c66ce83",
   "metadata": {},
   "outputs": [],
   "source": [
    "details={\"name\":\"harshwardhan\",\"reg no\":\"122012012858\",\"course\":\"b.tech cse\",\"year\":\"2nd\"}"
   ]
  },
  {
   "cell_type": "code",
   "execution_count": 5,
   "id": "5589d9d4",
   "metadata": {},
   "outputs": [
    {
     "data": {
      "text/plain": [
       "'harshwardhan'"
      ]
     },
     "execution_count": 5,
     "metadata": {},
     "output_type": "execute_result"
    }
   ],
   "source": [
    "details[\"name\"]"
   ]
  },
  {
   "cell_type": "code",
   "execution_count": 12,
   "id": "6dcb98c0",
   "metadata": {},
   "outputs": [
    {
     "name": "stdout",
     "output_type": "stream",
     "text": [
      "my name is harshwardhan\n"
     ]
    }
   ],
   "source": [
    "print(f\"my name is {details['name']}\")"
   ]
  },
  {
   "cell_type": "code",
   "execution_count": 1,
   "id": "8642e98b",
   "metadata": {},
   "outputs": [],
   "source": [
    "a=10"
   ]
  },
  {
   "cell_type": "code",
   "execution_count": 3,
   "id": "e83bf257",
   "metadata": {},
   "outputs": [
    {
     "name": "stdout",
     "output_type": "stream",
     "text": [
      "pass\n"
     ]
    }
   ],
   "source": [
    "if a==10:\n",
    "    print(\"pass\")\n",
    "else:\n",
    "    print(\"fail\")"
   ]
  },
  {
   "cell_type": "code",
   "execution_count": 6,
   "id": "5e4b4c8c",
   "metadata": {},
   "outputs": [
    {
     "name": "stdout",
     "output_type": "stream",
     "text": [
      "enter your age:19\n",
      "you are eligible for voting\n",
      "enter your name:harshwardhan\n",
      "enter ypuir areatnj\n"
     ]
    }
   ],
   "source": [
    "age=int(input(\"enter your age:\"))\n",
    "if age>=18:\n",
    "    print(\"you are eligible for voting\")\n",
    "    name=input(\"enter your name:\")\n",
    "    location=input(\"enter your area\")\n",
    "else:\n",
    "    print(\"you are not eligible for voting\")"
   ]
  },
  {
   "cell_type": "code",
   "execution_count": 7,
   "id": "d7804810",
   "metadata": {},
   "outputs": [
    {
     "name": "stdout",
     "output_type": "stream",
     "text": [
      "enter your age:18\n",
      "you are eligible for voting\n",
      "enter your name:harshwardhan\n",
      "enter your area:kumbakonam\n",
      "thank you for entering your details.your voter id will delivered to you soon\n"
     ]
    }
   ],
   "source": [
    "age=int(input(\"enter your age:\"))\n",
    "if age>=18:\n",
    "    print(\"you are eligible for voting\")\n",
    "    name=input(\"enter your name:\")\n",
    "    location=input(\"enter your area:\")\n",
    "    print(\"thank you for entering your details.your voter id will delivered to you soon\")"
   ]
  },
  {
   "cell_type": "code",
   "execution_count": null,
   "id": "a6b666b1",
   "metadata": {},
   "outputs": [],
   "source": []
  },
  {
   "cell_type": "code",
   "execution_count": null,
   "id": "07ea49ec",
   "metadata": {},
   "outputs": [],
   "source": []
  },
  {
   "cell_type": "code",
   "execution_count": null,
   "id": "52d98ef0",
   "metadata": {},
   "outputs": [],
   "source": []
  },
  {
   "cell_type": "code",
   "execution_count": null,
   "id": "cea5dfcc",
   "metadata": {},
   "outputs": [],
   "source": []
  },
  {
   "cell_type": "code",
   "execution_count": null,
   "id": "12ca12fe",
   "metadata": {},
   "outputs": [],
   "source": []
  },
  {
   "cell_type": "code",
   "execution_count": null,
   "id": "3c3ad19c",
   "metadata": {},
   "outputs": [],
   "source": []
  },
  {
   "cell_type": "code",
   "execution_count": null,
   "id": "fcbc5653",
   "metadata": {},
   "outputs": [],
   "source": []
  }
 ],
 "metadata": {
  "kernelspec": {
   "display_name": "Python 3 (ipykernel)",
   "language": "python",
   "name": "python3"
  },
  "language_info": {
   "codemirror_mode": {
    "name": "ipython",
    "version": 3
   },
   "file_extension": ".py",
   "mimetype": "text/x-python",
   "name": "python",
   "nbconvert_exporter": "python",
   "pygments_lexer": "ipython3",
   "version": "3.9.17"
  }
 },
 "nbformat": 4,
 "nbformat_minor": 5
}
